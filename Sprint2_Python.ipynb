{
 "cells": [
  {
   "cell_type": "markdown",
   "id": "9952b985",
   "metadata": {},
   "source": [
    "# Exercici 1\n"
   ]
  },
  {
   "cell_type": "markdown",
   "id": "72190613",
   "metadata": {},
   "source": [
    "Crea una llista que agrupi els mesos de l’any en trimestres (1T: gener, febrer i març; 2T: abril, maig, juny...), és a dir, una llista amb 4 llistes dins."
   ]
  },
  {
   "cell_type": "code",
   "execution_count": 9,
   "id": "05748c73",
   "metadata": {},
   "outputs": [
    {
     "name": "stdout",
     "output_type": "stream",
     "text": [
      "[['gener', 'febrer', 'març'], ['abril', 'maig', 'juny'], ['juliol', 'agost', 'setembre'], ['octubre', 'novembre', 'desembre']]\n"
     ]
    }
   ],
   "source": [
    "# Per crear una llista amb les 4 subllistes de cada trimestre (tal i com demana l'exercici) farem el següent:\n",
    "\n",
    "# Creem les llistes per a cada trimestre\n",
    "t1 = [\"gener\", \"febrer\", \"març\"]\n",
    "t2 = [\"abril\", \"maig\", \"juny\"]\n",
    "t3 = [\"juliol\", \"agost\", \"setembre\"]\n",
    "t4 = [\"octubre\", \"novembre\", \"desembre\"]\n",
    "\n",
    "# Creem una llista amb les 4 llistes dels trimestres\n",
    "mesos_any = [t1, t2, t3, t4]\n",
    "\n",
    "# Mostrem el resultat\n",
    "print(mesos_any)"
   ]
  },
  {
   "cell_type": "code",
   "execution_count": 10,
   "id": "84958980",
   "metadata": {},
   "outputs": [
    {
     "name": "stdout",
     "output_type": "stream",
     "text": [
      "{'t1': ['gener', 'febrer', 'març'], 't2': ['abril', 'maig', 'juny'], 't3': ['juliol', 'agost', 'setembre'], 't4': ['octubre', 'novembre', 'desembre']}\n"
     ]
    }
   ],
   "source": [
    "# Opcionalment, en cas que vulguéssim incloure el nom de cada subllista (T1, T2, etc.) hauríem de crear un diccionari:\n",
    "\n",
    "trimestres = {\n",
    "    \"t1\": [\"gener\", \"febrer\", \"març\"],\n",
    "    \"t2\": [\"abril\", \"maig\", \"juny\"],\n",
    "    \"t3\": [\"juliol\", \"agost\", \"setembre\"],\n",
    "    \"t4\": [\"octubre\", \"novembre\", \"desembre\"]\n",
    "}\n",
    "\n",
    "print(trimestres)"
   ]
  },
  {
   "cell_type": "markdown",
   "id": "4a873146",
   "metadata": {},
   "source": [
    "# Exercici 2\n"
   ]
  },
  {
   "cell_type": "markdown",
   "id": "541758aa",
   "metadata": {},
   "source": [
    "Crea un codi que et permeti accedir a:\n",
    "\n",
    "- El segon mes del primer trimestre.\n",
    "- Els mesos del primer trimestre.\n",
    "- Setembre i octubre."
   ]
  },
  {
   "cell_type": "code",
   "execution_count": 20,
   "id": "3e67a9d8",
   "metadata": {},
   "outputs": [
    {
     "name": "stdout",
     "output_type": "stream",
     "text": [
      "El segon mes del primer trimestre és febrer\n",
      "Els mesos del primer trimestre són ['gener', 'febrer', 'març']\n",
      "El novè i desè mes són ('setembre', 'octubre')\n"
     ]
    }
   ],
   "source": [
    "# Tenint en compte el codi creat anteriorment:\n",
    "\n",
    "t1 = [\"gener\", \"febrer\", \"març\"]\n",
    "t2 = [\"abril\", \"maig\", \"juny\"]\n",
    "t3 = [\"juliol\", \"agost\", \"setembre\"]\n",
    "t4 = [\"octubre\", \"novembre\", \"desembre\"]\n",
    "\n",
    "mesos_any = [t1, t2, t3, t4]\n",
    "\n",
    "# Utilitzarem la indexació. En aquest cas de la llista t1, el segon element (índex 1)\n",
    "print(f\"El segon mes del primer trimestre és\",(t1[1]))\n",
    "\n",
    "# Ara mostrarem tots els elements de la llista t1.\n",
    "print(f\"Els mesos del primer trimestre són\", (t1))\n",
    "\n",
    "# Finalment, accedirem al tercer element (índex 2) de la llista t3 i al primer element de la llista t4 (índex 0)\n",
    "print(f\"El novè i desè mes són\", (t3[2], t4[0]))"
   ]
  },
  {
   "cell_type": "markdown",
   "id": "70de227d",
   "metadata": {},
   "source": [
    "# Exercici 3"
   ]
  },
  {
   "cell_type": "code",
   "execution_count": null,
   "id": "02f24ae0",
   "metadata": {},
   "outputs": [],
   "source": [
    "Crea una llista amb nombres desordenats i respon a les següents preguntes:\n",
    "\n",
    "a) Quants números hi ha?\n",
    "b) Quantes vegades apareix el número 3.\n",
    "c) Quantes vegades apareixen els nombres 3 i 4?\n",
    "d) Quin és el número més gran?\n",
    "e) Quins són els 3 números més petits?\n",
    "f) Quin és el rang d’aquesta llista?"
   ]
  },
  {
   "cell_type": "code",
   "execution_count": 71,
   "id": "0bac3668",
   "metadata": {},
   "outputs": [
    {
     "name": "stdout",
     "output_type": "stream",
     "text": [
      "Hi ha 7 nombres a la llista.\n",
      "El nombre 3 apareix 0 vegades.\n",
      "El nombre 3 apareix 0 vegades i el nombre 4 apareix 1 vegada.\n",
      "El nombre més gran de la llista és 67.\n",
      "Els 3 nombres més petits de la llista són [4, 12, 22].\n",
      "El rang de la llista és de 4 a 67.\n"
     ]
    }
   ],
   "source": [
    "# Creem la llista amb nombres desordenats\n",
    "nombres = [22, 34, 12, 67, 41, 4, 64]\n",
    "\n",
    "# a) Comptem quants números hi ha, amb la funció len()\n",
    "print(f\"Hi ha {len(nombres)} nombres a la llista.\")\n",
    "\n",
    "# b) Comptem quantes vegades apareix el nombre 3, amb la funció .count()\n",
    "print(f\"El nombre 3 apareix {nombres.count(3)} vegades.\")\n",
    "\n",
    "# c) Comptem quantes vegades apareixen els nombres 3 i 4, amb la funció .count()\n",
    "print(f\"El nombre 3 apareix {nombres.count(3)} vegades i el nombre 4 apareix {nombres.count(4)} vegada.\")\n",
    "\n",
    "# d) Comprovem quin és el nombre més gran amb la funció max()\n",
    "print(f\"El nombre més gran de la llista és {max(nombres)}.\")\n",
    "\n",
    "# e) Comprovem quins són els 3 nombres més petits de la llista.\n",
    "# Primer crearem una llista ordenada en ordre ascendent:\n",
    "nombres_ord = sorted(nombres)\n",
    "# Ara accedirem i mostrarem els 3 primers nombres d'aquesta llista (que seran els 3 més petits), a partir de la indexació:\n",
    "print(f\"Els 3 nombres més petits de la llista són {nombres_ord[:3]}.\")\n",
    "\n",
    "# f) Comprovem el rang de la llista a partir dels valors mínim i màxim:\n",
    "print(f\"El rang de la llista és de {min(nombres)} a {max(nombres)}.\")"
   ]
  },
  {
   "cell_type": "markdown",
   "id": "414b58e7",
   "metadata": {},
   "source": [
    "# Exercici 4"
   ]
  },
  {
   "cell_type": "markdown",
   "id": "fd25eb4f",
   "metadata": {},
   "source": [
    "Crea un diccionari de la següent forma i respon a les preguntes:\n",
    "\n",
    "compra = { \"Pomes\" : {\"Qty\": 5, \"€\": 0.42}, \"Peres\" : {\"Qty\": 3, \"€\": 0.66} }\n",
    "a) Afegeix alguna fruita més\n",
    "b) Quant han costat les peres en total?\n",
    "c) Quantes fruites hem comprat en total?\n",
    "d) Quina és la fruita més cara?"
   ]
  },
  {
   "cell_type": "code",
   "execution_count": 70,
   "id": "b4778182",
   "metadata": {},
   "outputs": [
    {
     "name": "stdout",
     "output_type": "stream",
     "text": [
      "{'Pomes': {'Qty': 5, '€': 0.42}, 'Peres': {'Qty': 3, '€': 0.66}}\n",
      "{'Pomes': {'Qty': 5, '€': 0.42}, 'Peres': {'Qty': 3, '€': 0.66}, 'Plàtans': {'Qty': 6, '€': 0.8}}\n",
      "Les peres han costat 1.98€ en total\n",
      "Hem comprat 3 fruites en total.\n",
      "La fruita més cara són els Plàtans amb un preu de €0.8.\n"
     ]
    }
   ],
   "source": [
    "# Creem el diccionari\n",
    "compra = {\n",
    "    \"Pomes\": {\"Qty\": 5, \"€\": 0.42},\n",
    "    \"Peres\": {\"Qty\": 3, \"€\": 0.66}\n",
    "}\n",
    "\n",
    "print(compra)\n",
    "\n",
    "# a) Afegim una altra fruita al diccionari\n",
    "compra[\"Plàtans\"] = {\"Qty\": 6, \"€\": 0.80}\n",
    "print(compra) # Mostrem el resultat\n",
    "\n",
    "# b) Calculem quant han costat les peres en total\n",
    "\n",
    "peres = compra[\"Peres\"][\"Qty\"] * compra[\"Peres\"][\"€\"] # Multipliquem la quantitat de peres pel seu preu i ho guardem en una\n",
    "                                                     # nova variable anomenada peres.\n",
    "print(f\"Les peres han costat {peres}€ en total\") # Mostrem el resultat\n",
    "\n",
    "# c) Calculem quantes fruites hem comprat en total\n",
    "print(f\"Hem comprat {len(compra)} fruites en total.\")\n",
    "\n",
    "# d) Comprovem quina és la fruita més cara\n",
    "\n",
    "# Amb la funció max trobem el valor màxim d'acord amb la key (funció lambda especificada), segons el seu preu (€) \n",
    "fruita_mes_cara = max(compra, key=lambda x: compra[x]['€'])\n",
    "preu_mes_car = compra[fruita_mes_cara]['€']\n",
    "print(f\"La fruita més cara són els {fruita_mes_cara} amb un preu de €{preu_mes_car}.\") # Mostrem el resultat\n",
    "\n"
   ]
  }
 ],
 "metadata": {
  "kernelspec": {
   "display_name": "Python 3 (ipykernel)",
   "language": "python",
   "name": "python3"
  },
  "language_info": {
   "codemirror_mode": {
    "name": "ipython",
    "version": 3
   },
   "file_extension": ".py",
   "mimetype": "text/x-python",
   "name": "python",
   "nbconvert_exporter": "python",
   "pygments_lexer": "ipython3",
   "version": "3.11.1"
  }
 },
 "nbformat": 4,
 "nbformat_minor": 5
}
